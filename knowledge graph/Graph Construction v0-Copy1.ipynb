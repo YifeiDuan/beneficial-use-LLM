{
 "cells": [
  {
   "cell_type": "code",
   "execution_count": 1,
   "id": "efa590eb",
   "metadata": {},
   "outputs": [],
   "source": [
    "import networkx as nx\n",
    "import math\n",
    "import numpy as np\n",
    "import pandas as pd"
   ]
  },
  {
   "cell_type": "code",
   "execution_count": 2,
   "id": "bd436cc5",
   "metadata": {},
   "outputs": [],
   "source": [
    "df = pd.read_csv(\"../Data (Reformatted)/df_all.csv\")"
   ]
  },
  {
   "cell_type": "code",
   "execution_count": 3,
   "id": "48e8fedc",
   "metadata": {},
   "outputs": [],
   "source": [
    "all_mat = set(df[(df[\"mat\"]!=\"unknown\")][\"mat\"].dropna())\n",
    "\n",
    "\n",
    "all_app = set(df[(df[\"app\"]!=\"unknown\")][\"app\"].dropna())\n",
    "\n",
    "\n",
    "all_prod = set(df[(df[\"prod\"]!=\"unknown\")][\"prod\"].dropna())"
   ]
  },
  {
   "cell_type": "markdown",
   "id": "fe36e71d",
   "metadata": {},
   "source": [
    "# Add Nodes"
   ]
  },
  {
   "cell_type": "code",
   "execution_count": 4,
   "id": "ca908b47",
   "metadata": {},
   "outputs": [],
   "source": [
    "G = nx.Graph()\n",
    "\n",
    "for mat in all_mat:\n",
    "    G.add_node(mat, node_type=\"material\")\n",
    "    \n",
    "for app in all_app:\n",
    "    G.add_node(app, node_type=\"application\")\n",
    "    \n",
    "for prod in all_prod:\n",
    "    if prod in nx.nodes(G):\n",
    "        prod = prod + \" product\"\n",
    "    G.add_node(prod, node_type=\"product\")"
   ]
  },
  {
   "cell_type": "code",
   "execution_count": 5,
   "id": "c251586c",
   "metadata": {
    "scrolled": true
   },
   "outputs": [
    {
     "data": {
      "text/plain": [
       "NodeView(('coal fly ash', 'rubber waste', 'demolished concrete waste', 'palm oil clinker', 'Class F fly ash', 'MSWI bottom ash', 'coal bottom ash', 'albite', 'basalt fiber', 'stone powder', 'construction waste', 'mine tailings', 'soda ash', 'lime', 'red mud', 'cellulose', 'fine recycled concrete aggregate', 'blast furnace slag', 'construction and demolition waste', 'limestone powder', 'calcium carbide residue', 'natural pozzolan', 'microsilica', 'nano-silica', 'metakaolin', 'copper tailing', 'Corex slag', 'waste rubber particles', 'coarse recycled concrete aggregate', 'aluminium hydroxide', 'hemicellulose', 'harbor sediment', 'limestone', 'sewage sludge ash', 'lignin', 'gypsum', 'oil palm shell', 'fluid catalytic cracking catalyst residue', 'silica', 'FeMn arc-furnace slag', 'flax fibre', 'glass fibre', 'waste glass', 'water treatment sludge', 'palm oil fuel ash', 'electric arc furnace slag', 'biochar', 'kaolin', 'water treatment sludge waste', 'steel fiber', 'fly ash', 'glass waste', 'ladle furnace slag', 'colloidal nano-silica', 'sugar cane bagasse ash', 'steel slag', 'Class C fly ash', 'raw rice husk', 'silica fume', 'kaolinite', 'zeolite', 'bagasse ash', 'mineral', 'rice husk ash', 'paper sludge', 'aluminosilicate', 'nylon fibre', 'biomass fly ash', 'siltstone', 'SiO2 nanoparticle', 'calcined clay', 'recycled aggregate', 'microorganisms-based bioplasticizer', 'MSWI fly ash', 'basalt', 'aggregate', 'additive', 'fine aggregate', 'reinforced fibre', 'lime-pozzolan cement', 'pore forming agent', 'lightweight aggregate', 'superplasticizer', 'supplementary cementitious material', 'filler', 'geopolymer', 'coarse aggregate', 'clinker feedstock', 'geopolymer paste', 'geopolymer composite', 'concrete pavement', 'mortar', 'high-alumina cement', 'lightweight aggregate product', 'concrete', 'geopolymer mortar', 'cement paste', 'cement', 'lightweight building material', 'calcium aluminate cement paste', 'asphalt mastic', 'self-compacting concrete', 'cement mortar'))"
      ]
     },
     "execution_count": 5,
     "metadata": {},
     "output_type": "execute_result"
    }
   ],
   "source": [
    "nx.nodes(G)"
   ]
  },
  {
   "cell_type": "code",
   "execution_count": 6,
   "id": "fb1dba97",
   "metadata": {
    "scrolled": true
   },
   "outputs": [
    {
     "data": {
      "text/plain": [
       "{'coal fly ash': 'material',\n",
       " 'rubber waste': 'material',\n",
       " 'demolished concrete waste': 'material',\n",
       " 'palm oil clinker': 'material',\n",
       " 'Class F fly ash': 'material',\n",
       " 'MSWI bottom ash': 'material',\n",
       " 'coal bottom ash': 'material',\n",
       " 'albite': 'material',\n",
       " 'basalt fiber': 'material',\n",
       " 'stone powder': 'material',\n",
       " 'construction waste': 'material',\n",
       " 'mine tailings': 'material',\n",
       " 'soda ash': 'material',\n",
       " 'lime': 'material',\n",
       " 'red mud': 'material',\n",
       " 'cellulose': 'material',\n",
       " 'fine recycled concrete aggregate': 'material',\n",
       " 'blast furnace slag': 'material',\n",
       " 'construction and demolition waste': 'material',\n",
       " 'limestone powder': 'material',\n",
       " 'calcium carbide residue': 'material',\n",
       " 'natural pozzolan': 'material',\n",
       " 'microsilica': 'material',\n",
       " 'nano-silica': 'material',\n",
       " 'metakaolin': 'material',\n",
       " 'copper tailing': 'material',\n",
       " 'Corex slag': 'material',\n",
       " 'waste rubber particles': 'material',\n",
       " 'coarse recycled concrete aggregate': 'material',\n",
       " 'aluminium hydroxide': 'material',\n",
       " 'hemicellulose': 'material',\n",
       " 'harbor sediment': 'material',\n",
       " 'limestone': 'material',\n",
       " 'sewage sludge ash': 'material',\n",
       " 'lignin': 'material',\n",
       " 'gypsum': 'material',\n",
       " 'oil palm shell': 'material',\n",
       " 'fluid catalytic cracking catalyst residue': 'material',\n",
       " 'silica': 'material',\n",
       " 'FeMn arc-furnace slag': 'material',\n",
       " 'flax fibre': 'material',\n",
       " 'glass fibre': 'material',\n",
       " 'waste glass': 'material',\n",
       " 'water treatment sludge': 'material',\n",
       " 'palm oil fuel ash': 'material',\n",
       " 'electric arc furnace slag': 'material',\n",
       " 'biochar': 'material',\n",
       " 'kaolin': 'material',\n",
       " 'water treatment sludge waste': 'material',\n",
       " 'steel fiber': 'material',\n",
       " 'fly ash': 'material',\n",
       " 'glass waste': 'material',\n",
       " 'ladle furnace slag': 'material',\n",
       " 'colloidal nano-silica': 'material',\n",
       " 'sugar cane bagasse ash': 'material',\n",
       " 'steel slag': 'material',\n",
       " 'Class C fly ash': 'material',\n",
       " 'raw rice husk': 'material',\n",
       " 'silica fume': 'material',\n",
       " 'kaolinite': 'material',\n",
       " 'zeolite': 'material',\n",
       " 'bagasse ash': 'material',\n",
       " 'mineral': 'material',\n",
       " 'rice husk ash': 'material',\n",
       " 'paper sludge': 'material',\n",
       " 'aluminosilicate': 'material',\n",
       " 'nylon fibre': 'material',\n",
       " 'biomass fly ash': 'material',\n",
       " 'siltstone': 'material',\n",
       " 'SiO2 nanoparticle': 'material',\n",
       " 'calcined clay': 'material',\n",
       " 'recycled aggregate': 'material',\n",
       " 'microorganisms-based bioplasticizer': 'material',\n",
       " 'MSWI fly ash': 'material',\n",
       " 'basalt': 'material',\n",
       " 'aggregate': 'application',\n",
       " 'additive': 'application',\n",
       " 'fine aggregate': 'application',\n",
       " 'reinforced fibre': 'application',\n",
       " 'lime-pozzolan cement': 'application',\n",
       " 'pore forming agent': 'application',\n",
       " 'lightweight aggregate': 'application',\n",
       " 'superplasticizer': 'application',\n",
       " 'supplementary cementitious material': 'application',\n",
       " 'filler': 'application',\n",
       " 'geopolymer': 'application',\n",
       " 'coarse aggregate': 'application',\n",
       " 'clinker feedstock': 'application',\n",
       " 'geopolymer paste': 'product',\n",
       " 'geopolymer composite': 'product',\n",
       " 'concrete pavement': 'product',\n",
       " 'mortar': 'product',\n",
       " 'high-alumina cement': 'product',\n",
       " 'lightweight aggregate product': 'product',\n",
       " 'concrete': 'product',\n",
       " 'geopolymer mortar': 'product',\n",
       " 'cement paste': 'product',\n",
       " 'cement': 'product',\n",
       " 'lightweight building material': 'product',\n",
       " 'calcium aluminate cement paste': 'product',\n",
       " 'asphalt mastic': 'product',\n",
       " 'self-compacting concrete': 'product',\n",
       " 'cement mortar': 'product'}"
      ]
     },
     "execution_count": 6,
     "metadata": {},
     "output_type": "execute_result"
    }
   ],
   "source": [
    "nx.get_node_attributes(G, \"node_type\")"
   ]
  },
  {
   "cell_type": "markdown",
   "id": "96a97cc2",
   "metadata": {},
   "source": [
    "# Add Edges"
   ]
  },
  {
   "cell_type": "code",
   "execution_count": 7,
   "id": "f64c870a",
   "metadata": {},
   "outputs": [
    {
     "data": {
      "text/html": [
       "<div>\n",
       "<style scoped>\n",
       "    .dataframe tbody tr th:only-of-type {\n",
       "        vertical-align: middle;\n",
       "    }\n",
       "\n",
       "    .dataframe tbody tr th {\n",
       "        vertical-align: top;\n",
       "    }\n",
       "\n",
       "    .dataframe thead th {\n",
       "        text-align: right;\n",
       "    }\n",
       "</style>\n",
       "<table border=\"1\" class=\"dataframe\">\n",
       "  <thead>\n",
       "    <tr style=\"text-align: right;\">\n",
       "      <th></th>\n",
       "      <th>DOI</th>\n",
       "      <th>mat</th>\n",
       "      <th>app</th>\n",
       "      <th>prod</th>\n",
       "    </tr>\n",
       "  </thead>\n",
       "  <tbody>\n",
       "    <tr>\n",
       "      <th>0</th>\n",
       "      <td>10.1016/j.conbuildmat.2013.06.081</td>\n",
       "      <td>coal bottom ash</td>\n",
       "      <td>fine aggregate</td>\n",
       "      <td>concrete</td>\n",
       "    </tr>\n",
       "    <tr>\n",
       "      <th>1</th>\n",
       "      <td>10.1016/j.conbuildmat.2012.07.078</td>\n",
       "      <td>silica fume</td>\n",
       "      <td>supplementary cementitious material</td>\n",
       "      <td>concrete</td>\n",
       "    </tr>\n",
       "    <tr>\n",
       "      <th>2</th>\n",
       "      <td>10.1111/j.1551-2916.2007.02108.x</td>\n",
       "      <td>Class C fly ash</td>\n",
       "      <td>supplementary cementitious material</td>\n",
       "      <td>concrete</td>\n",
       "    </tr>\n",
       "    <tr>\n",
       "      <th>3</th>\n",
       "      <td>10.1016/j.conbuildmat.2005.09.011</td>\n",
       "      <td>coal fly ash</td>\n",
       "      <td>supplementary cementitious material</td>\n",
       "      <td>concrete</td>\n",
       "    </tr>\n",
       "    <tr>\n",
       "      <th>4</th>\n",
       "      <td>10.1016/j.conbuildmat.2011.06.019</td>\n",
       "      <td>limestone powder</td>\n",
       "      <td>fine aggregate</td>\n",
       "      <td>concrete</td>\n",
       "    </tr>\n",
       "    <tr>\n",
       "      <th>...</th>\n",
       "      <td>...</td>\n",
       "      <td>...</td>\n",
       "      <td>...</td>\n",
       "      <td>...</td>\n",
       "    </tr>\n",
       "    <tr>\n",
       "      <th>7117</th>\n",
       "      <td>10.1016/j.resconrec.2012.12.003</td>\n",
       "      <td>construction and demolition waste</td>\n",
       "      <td>supplementary cementitious material</td>\n",
       "      <td>concrete</td>\n",
       "    </tr>\n",
       "    <tr>\n",
       "      <th>7118</th>\n",
       "      <td>10.1016/j.conbuildmat.2020.119251</td>\n",
       "      <td>construction and demolition waste</td>\n",
       "      <td>fine aggregate</td>\n",
       "      <td>concrete</td>\n",
       "    </tr>\n",
       "    <tr>\n",
       "      <th>7119</th>\n",
       "      <td>10.1016/j.resconrec.2006.05.010</td>\n",
       "      <td>recycled aggregate</td>\n",
       "      <td>aggregate</td>\n",
       "      <td>concrete</td>\n",
       "    </tr>\n",
       "    <tr>\n",
       "      <th>7120</th>\n",
       "      <td>10.1016/j.jclepro.2018.03.085</td>\n",
       "      <td>construction and demolition waste</td>\n",
       "      <td>supplementary cementitious material</td>\n",
       "      <td>concrete</td>\n",
       "    </tr>\n",
       "    <tr>\n",
       "      <th>7121</th>\n",
       "      <td>10.1016/j.jclepro.2020.121610</td>\n",
       "      <td>construction and demolition waste</td>\n",
       "      <td>supplementary cementitious material</td>\n",
       "      <td>concrete</td>\n",
       "    </tr>\n",
       "  </tbody>\n",
       "</table>\n",
       "<p>7122 rows × 4 columns</p>\n",
       "</div>"
      ],
      "text/plain": [
       "                                    DOI                                mat  \\\n",
       "0     10.1016/j.conbuildmat.2013.06.081                    coal bottom ash   \n",
       "1     10.1016/j.conbuildmat.2012.07.078                        silica fume   \n",
       "2      10.1111/j.1551-2916.2007.02108.x                    Class C fly ash   \n",
       "3     10.1016/j.conbuildmat.2005.09.011                       coal fly ash   \n",
       "4     10.1016/j.conbuildmat.2011.06.019                   limestone powder   \n",
       "...                                 ...                                ...   \n",
       "7117    10.1016/j.resconrec.2012.12.003  construction and demolition waste   \n",
       "7118  10.1016/j.conbuildmat.2020.119251  construction and demolition waste   \n",
       "7119    10.1016/j.resconrec.2006.05.010                 recycled aggregate   \n",
       "7120      10.1016/j.jclepro.2018.03.085  construction and demolition waste   \n",
       "7121      10.1016/j.jclepro.2020.121610  construction and demolition waste   \n",
       "\n",
       "                                      app      prod  \n",
       "0                          fine aggregate  concrete  \n",
       "1     supplementary cementitious material  concrete  \n",
       "2     supplementary cementitious material  concrete  \n",
       "3     supplementary cementitious material  concrete  \n",
       "4                          fine aggregate  concrete  \n",
       "...                                   ...       ...  \n",
       "7117  supplementary cementitious material  concrete  \n",
       "7118                       fine aggregate  concrete  \n",
       "7119                            aggregate  concrete  \n",
       "7120  supplementary cementitious material  concrete  \n",
       "7121  supplementary cementitious material  concrete  \n",
       "\n",
       "[7122 rows x 4 columns]"
      ]
     },
     "execution_count": 7,
     "metadata": {},
     "output_type": "execute_result"
    }
   ],
   "source": [
    "df"
   ]
  },
  {
   "cell_type": "code",
   "execution_count": 8,
   "id": "a00c8484",
   "metadata": {},
   "outputs": [],
   "source": [
    "for idx in range(len(df)):\n",
    "    DOI = df[\"DOI\"][idx]\n",
    "    mat = df[\"mat\"][idx]\n",
    "    app = df[\"app\"][idx]\n",
    "    prod = df[\"prod\"][idx]\n",
    "    \n",
    "    if not G.has_node(DOI):\n",
    "        G.add_node(DOI, node_type=\"DOI\")\n",
    "        \n",
    "    if G.has_node(mat):\n",
    "        G.add_edge(DOI, mat, weight=1, edge_type=\"DOI_mat\")\n",
    "        \n",
    "    if G.has_node(prod):\n",
    "        G.add_edge(DOI, prod, weight=1, edge_type=\"DOI_prod\")\n",
    "    \n",
    "    if G.has_node(mat) and G.has_node(app):\n",
    "        if not G.has_edge(mat, app):\n",
    "            G.add_edge(mat, app, weight=1, edge_type=\"mat_app\")\n",
    "        else:\n",
    "            G[mat][app][\"weight\"] += 1"
   ]
  },
  {
   "cell_type": "markdown",
   "id": "545343ef",
   "metadata": {},
   "source": [
    "# Save Graph"
   ]
  },
  {
   "cell_type": "code",
   "execution_count": 9,
   "id": "73acc066",
   "metadata": {},
   "outputs": [],
   "source": [
    "import os\n",
    "save_dir = \"Saved Data/G_withDOI_v0/\"\n",
    "if not os.path.exists(save_dir):\n",
    "    os.makedirs(save_dir)\n",
    "\n",
    "nx.write_graphml_lxml(G, save_dir + \"Graph.graphml\")"
   ]
  },
  {
   "cell_type": "code",
   "execution_count": 11,
   "id": "9cc6a7d1",
   "metadata": {},
   "outputs": [
    {
     "data": {
      "text/plain": [
       "12726"
      ]
     },
     "execution_count": 11,
     "metadata": {},
     "output_type": "execute_result"
    }
   ],
   "source": [
    "nx.number_of_edges(G)"
   ]
  }
 ],
 "metadata": {
  "kernelspec": {
   "display_name": "yifei",
   "language": "python",
   "name": "yifei"
  },
  "language_info": {
   "codemirror_mode": {
    "name": "ipython",
    "version": 3
   },
   "file_extension": ".py",
   "mimetype": "text/x-python",
   "name": "python",
   "nbconvert_exporter": "python",
   "pygments_lexer": "ipython3",
   "version": "3.8.0"
  },
  "toc": {
   "base_numbering": 1,
   "nav_menu": {},
   "number_sections": true,
   "sideBar": true,
   "skip_h1_title": false,
   "title_cell": "Table of Contents",
   "title_sidebar": "Contents",
   "toc_cell": false,
   "toc_position": {},
   "toc_section_display": true,
   "toc_window_display": false
  }
 },
 "nbformat": 4,
 "nbformat_minor": 5
}
